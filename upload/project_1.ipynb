{
  "nbformat": 4,
  "nbformat_minor": 0,
  "metadata": {
    "colab": {
      "name": "project_1.ipynb",
      "provenance": [],
      "collapsed_sections": []
    },
    "kernelspec": {
      "name": "python3",
      "display_name": "Python 3"
    },
    "accelerator": "GPU"
  },
  "cells": [
    {
      "cell_type": "markdown",
      "metadata": {
        "id": "bBtpMmGRTShP",
        "colab_type": "text"
      },
      "source": [
        "##구글 드라이브와 연동하기"
      ]
    },
    {
      "cell_type": "code",
      "metadata": {
        "id": "M1KHpaxdSa6A",
        "colab_type": "code",
        "outputId": "ca31c55f-2b7e-417d-cc0d-8735bbf023eb",
        "colab": {
          "base_uri": "https://localhost:8080/",
          "height": 125
        }
      },
      "source": [
        "from google.colab import drive\n",
        "drive.mount('/content/drive')"
      ],
      "execution_count": 1,
      "outputs": [
        {
          "output_type": "stream",
          "text": [
            "Go to this URL in a browser: https://accounts.google.com/o/oauth2/auth?client_id=947318989803-6bn6qk8qdgf4n4g3pfee6491hc0brc4i.apps.googleusercontent.com&redirect_uri=urn%3aietf%3awg%3aoauth%3a2.0%3aoob&response_type=code&scope=email%20https%3a%2f%2fwww.googleapis.com%2fauth%2fdocs.test%20https%3a%2f%2fwww.googleapis.com%2fauth%2fdrive%20https%3a%2f%2fwww.googleapis.com%2fauth%2fdrive.photos.readonly%20https%3a%2f%2fwww.googleapis.com%2fauth%2fpeopleapi.readonly\n",
            "\n",
            "Enter your authorization code:\n",
            "··········\n",
            "Mounted at /content/drive\n"
          ],
          "name": "stdout"
        }
      ]
    },
    {
      "cell_type": "markdown",
      "metadata": {
        "id": "0hyIzE54TPyH",
        "colab_type": "text"
      },
      "source": [
        "## Pandas 임포트 후 csv 파일 불러오기.\n",
        "\n",
        "Pandas는 데이터 분석 및 가공에 사용되는 파이썬 라이브러리이다."
      ]
    },
    {
      "cell_type": "code",
      "metadata": {
        "id": "lH9bHAc2SkHk",
        "colab_type": "code",
        "colab": {}
      },
      "source": [
        "import pandas as pd"
      ],
      "execution_count": 0,
      "outputs": []
    },
    {
      "cell_type": "code",
      "metadata": {
        "id": "W536udx7TKCZ",
        "colab_type": "code",
        "colab": {}
      },
      "source": [
        "df_logs = pd.read_csv('./drive/My Drive/Colab Notebooks/output.csv')"
      ],
      "execution_count": 0,
      "outputs": []
    },
    {
      "cell_type": "code",
      "metadata": {
        "id": "OjzEFK2zUHQf",
        "colab_type": "code",
        "outputId": "21157ad6-1226-46c9-a485-17ce86bf4f51",
        "colab": {
          "base_uri": "https://localhost:8080/",
          "height": 570
        }
      },
      "source": [
        "df_logs"
      ],
      "execution_count": 4,
      "outputs": [
        {
          "output_type": "execute_result",
          "data": {
            "text/html": [
              "<div>\n",
              "<style scoped>\n",
              "    .dataframe tbody tr th:only-of-type {\n",
              "        vertical-align: middle;\n",
              "    }\n",
              "\n",
              "    .dataframe tbody tr th {\n",
              "        vertical-align: top;\n",
              "    }\n",
              "\n",
              "    .dataframe thead th {\n",
              "        text-align: right;\n",
              "    }\n",
              "</style>\n",
              "<table border=\"1\" class=\"dataframe\">\n",
              "  <thead>\n",
              "    <tr style=\"text-align: right;\">\n",
              "      <th></th>\n",
              "      <th>host</th>\n",
              "      <th>ident</th>\n",
              "      <th>authouser</th>\n",
              "      <th>datetime</th>\n",
              "      <th>request</th>\n",
              "      <th>statuscode</th>\n",
              "      <th>bytes</th>\n",
              "      <th>referer</th>\n",
              "      <th>user-agent</th>\n",
              "    </tr>\n",
              "  </thead>\n",
              "  <tbody>\n",
              "    <tr>\n",
              "      <th>0</th>\n",
              "      <td>83.149.9.216</td>\n",
              "      <td>-</td>\n",
              "      <td>-</td>\n",
              "      <td>17/May/2015:10:05:03 +0000</td>\n",
              "      <td>GET /presentations/logstash-monitorama-2013/im...</td>\n",
              "      <td>200</td>\n",
              "      <td>203023</td>\n",
              "      <td>http://semicomplete.com/presentations/logstash...</td>\n",
              "      <td>Mozilla/5.0 (Macintosh; Intel Mac OS X 10_9_1)...</td>\n",
              "    </tr>\n",
              "    <tr>\n",
              "      <th>1</th>\n",
              "      <td>83.149.9.216</td>\n",
              "      <td>-</td>\n",
              "      <td>-</td>\n",
              "      <td>17/May/2015:10:05:43 +0000</td>\n",
              "      <td>GET /presentations/logstash-monitorama-2013/im...</td>\n",
              "      <td>200</td>\n",
              "      <td>171717</td>\n",
              "      <td>http://semicomplete.com/presentations/logstash...</td>\n",
              "      <td>Mozilla/5.0 (Macintosh; Intel Mac OS X 10_9_1)...</td>\n",
              "    </tr>\n",
              "    <tr>\n",
              "      <th>2</th>\n",
              "      <td>83.149.9.216</td>\n",
              "      <td>-</td>\n",
              "      <td>-</td>\n",
              "      <td>17/May/2015:10:05:47 +0000</td>\n",
              "      <td>GET /presentations/logstash-monitorama-2013/pl...</td>\n",
              "      <td>200</td>\n",
              "      <td>26185</td>\n",
              "      <td>http://semicomplete.com/presentations/logstash...</td>\n",
              "      <td>Mozilla/5.0 (Macintosh; Intel Mac OS X 10_9_1)...</td>\n",
              "    </tr>\n",
              "    <tr>\n",
              "      <th>3</th>\n",
              "      <td>83.149.9.216</td>\n",
              "      <td>-</td>\n",
              "      <td>-</td>\n",
              "      <td>17/May/2015:10:05:12 +0000</td>\n",
              "      <td>GET /presentations/logstash-monitorama-2013/pl...</td>\n",
              "      <td>200</td>\n",
              "      <td>7697</td>\n",
              "      <td>http://semicomplete.com/presentations/logstash...</td>\n",
              "      <td>Mozilla/5.0 (Macintosh; Intel Mac OS X 10_9_1)...</td>\n",
              "    </tr>\n",
              "    <tr>\n",
              "      <th>4</th>\n",
              "      <td>83.149.9.216</td>\n",
              "      <td>-</td>\n",
              "      <td>-</td>\n",
              "      <td>17/May/2015:10:05:07 +0000</td>\n",
              "      <td>GET /presentations/logstash-monitorama-2013/pl...</td>\n",
              "      <td>200</td>\n",
              "      <td>2892</td>\n",
              "      <td>http://semicomplete.com/presentations/logstash...</td>\n",
              "      <td>Mozilla/5.0 (Macintosh; Intel Mac OS X 10_9_1)...</td>\n",
              "    </tr>\n",
              "    <tr>\n",
              "      <th>...</th>\n",
              "      <td>...</td>\n",
              "      <td>...</td>\n",
              "      <td>...</td>\n",
              "      <td>...</td>\n",
              "      <td>...</td>\n",
              "      <td>...</td>\n",
              "      <td>...</td>\n",
              "      <td>...</td>\n",
              "      <td>...</td>\n",
              "    </tr>\n",
              "    <tr>\n",
              "      <th>9995</th>\n",
              "      <td>63.140.98.80</td>\n",
              "      <td>-</td>\n",
              "      <td>-</td>\n",
              "      <td>20/May/2015:21:05:28 +0000</td>\n",
              "      <td>GET /blog/tags/puppet?flav=rss20 HTTP/1.1</td>\n",
              "      <td>200</td>\n",
              "      <td>14872</td>\n",
              "      <td>http://www.semicomplete.com/blog/tags/puppet?f...</td>\n",
              "      <td>Tiny Tiny RSS/1.11 (http://tt-rss.org/)</td>\n",
              "    </tr>\n",
              "    <tr>\n",
              "      <th>9996</th>\n",
              "      <td>63.140.98.80</td>\n",
              "      <td>-</td>\n",
              "      <td>-</td>\n",
              "      <td>20/May/2015:21:05:50 +0000</td>\n",
              "      <td>GET /blog/geekery/solving-good-or-bad-problems...</td>\n",
              "      <td>200</td>\n",
              "      <td>10756</td>\n",
              "      <td>-</td>\n",
              "      <td>Tiny Tiny RSS/1.11 (http://tt-rss.org/)</td>\n",
              "    </tr>\n",
              "    <tr>\n",
              "      <th>9997</th>\n",
              "      <td>66.249.73.135</td>\n",
              "      <td>-</td>\n",
              "      <td>-</td>\n",
              "      <td>20/May/2015:21:05:00 +0000</td>\n",
              "      <td>GET /?flav=atom HTTP/1.1</td>\n",
              "      <td>200</td>\n",
              "      <td>32352</td>\n",
              "      <td>-</td>\n",
              "      <td>Mozilla/5.0 (compatible; Googlebot/2.1; +http:...</td>\n",
              "    </tr>\n",
              "    <tr>\n",
              "      <th>9998</th>\n",
              "      <td>180.76.6.56</td>\n",
              "      <td>-</td>\n",
              "      <td>-</td>\n",
              "      <td>20/May/2015:21:05:56 +0000</td>\n",
              "      <td>GET /robots.txt HTTP/1.1</td>\n",
              "      <td>200</td>\n",
              "      <td>-</td>\n",
              "      <td>-</td>\n",
              "      <td>Mozilla/5.0 (Windows NT 5.1; rv:6.0.2) Gecko/2...</td>\n",
              "    </tr>\n",
              "    <tr>\n",
              "      <th>9999</th>\n",
              "      <td>46.105.14.53</td>\n",
              "      <td>-</td>\n",
              "      <td>-</td>\n",
              "      <td>20/May/2015:21:05:15 +0000</td>\n",
              "      <td>GET /blog/tags/puppet?flav=rss20 HTTP/1.1</td>\n",
              "      <td>200</td>\n",
              "      <td>14872</td>\n",
              "      <td>-</td>\n",
              "      <td>UniversalFeedParser/4.2-pre-314-svn +http://fe...</td>\n",
              "    </tr>\n",
              "  </tbody>\n",
              "</table>\n",
              "<p>10000 rows × 9 columns</p>\n",
              "</div>"
            ],
            "text/plain": [
              "               host  ...                                         user-agent\n",
              "0      83.149.9.216  ...  Mozilla/5.0 (Macintosh; Intel Mac OS X 10_9_1)...\n",
              "1      83.149.9.216  ...  Mozilla/5.0 (Macintosh; Intel Mac OS X 10_9_1)...\n",
              "2      83.149.9.216  ...  Mozilla/5.0 (Macintosh; Intel Mac OS X 10_9_1)...\n",
              "3      83.149.9.216  ...  Mozilla/5.0 (Macintosh; Intel Mac OS X 10_9_1)...\n",
              "4      83.149.9.216  ...  Mozilla/5.0 (Macintosh; Intel Mac OS X 10_9_1)...\n",
              "...             ...  ...                                                ...\n",
              "9995   63.140.98.80  ...            Tiny Tiny RSS/1.11 (http://tt-rss.org/)\n",
              "9996   63.140.98.80  ...            Tiny Tiny RSS/1.11 (http://tt-rss.org/)\n",
              "9997  66.249.73.135  ...  Mozilla/5.0 (compatible; Googlebot/2.1; +http:...\n",
              "9998    180.76.6.56  ...  Mozilla/5.0 (Windows NT 5.1; rv:6.0.2) Gecko/2...\n",
              "9999   46.105.14.53  ...  UniversalFeedParser/4.2-pre-314-svn +http://fe...\n",
              "\n",
              "[10000 rows x 9 columns]"
            ]
          },
          "metadata": {
            "tags": []
          },
          "execution_count": 4
        }
      ]
    },
    {
      "cell_type": "markdown",
      "metadata": {
        "id": "7K46dfrnY6zI",
        "colab_type": "text"
      },
      "source": [
        "##**문제 2> IP 주소 \"68.184.202.186\"은 서버에 몇 번 데이터를 요청 했나요?**"
      ]
    },
    {
      "cell_type": "code",
      "metadata": {
        "id": "npkZTq8RUJVQ",
        "colab_type": "code",
        "colab": {}
      },
      "source": [
        "cnt=0\n",
        "\n",
        "for value in df_logs[\"host\"]:\n",
        "  if value == \"68.184.202.186\":\n",
        "    cnt += 1"
      ],
      "execution_count": 0,
      "outputs": []
    },
    {
      "cell_type": "code",
      "metadata": {
        "id": "crkT3tXyY1vT",
        "colab_type": "code",
        "outputId": "0ae41508-916f-4836-8184-c9ce57e1d383",
        "colab": {
          "base_uri": "https://localhost:8080/",
          "height": 34
        }
      },
      "source": [
        "\"IP 주소 '68.184.202.186'은 서버에 총 {}번 데이터를 요청했습니다\".format(cnt)"
      ],
      "execution_count": 0,
      "outputs": [
        {
          "output_type": "execute_result",
          "data": {
            "text/plain": [
              "\"IP 주소 '68.184.202.186'은 서버에 총 6번 데이터를 요청했습니다\""
            ]
          },
          "metadata": {
            "tags": []
          },
          "execution_count": 34
        }
      ]
    },
    {
      "cell_type": "markdown",
      "metadata": {
        "id": "T4iKVUOFvnTI",
        "colab_type": "text"
      },
      "source": [
        "혹시 request에 잘못된 값이 있거나 아예 요청이 없었을 수도 있으니(?), IP 주소가 \"68.184.202.186\"인 클라이언트의 로그 기록만 살펴보자."
      ]
    },
    {
      "cell_type": "code",
      "metadata": {
        "id": "JJ6DdndHopqn",
        "colab_type": "code",
        "outputId": "9f1f85a8-8b60-451b-dcec-4b30a407360a",
        "colab": {
          "base_uri": "https://localhost:8080/",
          "height": 326
        }
      },
      "source": [
        "df_logs[df_logs['host']=='68.184.202.186']"
      ],
      "execution_count": 0,
      "outputs": [
        {
          "output_type": "execute_result",
          "data": {
            "text/html": [
              "<div>\n",
              "<style scoped>\n",
              "    .dataframe tbody tr th:only-of-type {\n",
              "        vertical-align: middle;\n",
              "    }\n",
              "\n",
              "    .dataframe tbody tr th {\n",
              "        vertical-align: top;\n",
              "    }\n",
              "\n",
              "    .dataframe thead th {\n",
              "        text-align: right;\n",
              "    }\n",
              "</style>\n",
              "<table border=\"1\" class=\"dataframe\">\n",
              "  <thead>\n",
              "    <tr style=\"text-align: right;\">\n",
              "      <th></th>\n",
              "      <th>host</th>\n",
              "      <th>ident</th>\n",
              "      <th>authouser</th>\n",
              "      <th>datetime</th>\n",
              "      <th>request</th>\n",
              "      <th>statuscode</th>\n",
              "      <th>bytes</th>\n",
              "      <th>referer</th>\n",
              "      <th>user-agent</th>\n",
              "    </tr>\n",
              "  </thead>\n",
              "  <tbody>\n",
              "    <tr>\n",
              "      <th>153</th>\n",
              "      <td>68.184.202.186</td>\n",
              "      <td>-</td>\n",
              "      <td>-</td>\n",
              "      <td>17/May/2015:11:05:28 +0000</td>\n",
              "      <td>GET /projects/xpathtool/ HTTP/1.1</td>\n",
              "      <td>200</td>\n",
              "      <td>10745</td>\n",
              "      <td>https://www.google.com/</td>\n",
              "      <td>Mozilla/5.0 (Macintosh; Intel Mac OS X 10_8_5)...</td>\n",
              "    </tr>\n",
              "    <tr>\n",
              "      <th>154</th>\n",
              "      <td>68.184.202.186</td>\n",
              "      <td>-</td>\n",
              "      <td>-</td>\n",
              "      <td>17/May/2015:11:05:02 +0000</td>\n",
              "      <td>GET /reset.css HTTP/1.1</td>\n",
              "      <td>200</td>\n",
              "      <td>1015</td>\n",
              "      <td>http://www.semicomplete.com/projects/xpathtool/</td>\n",
              "      <td>Mozilla/5.0 (Macintosh; Intel Mac OS X 10_8_5)...</td>\n",
              "    </tr>\n",
              "    <tr>\n",
              "      <th>155</th>\n",
              "      <td>68.184.202.186</td>\n",
              "      <td>-</td>\n",
              "      <td>-</td>\n",
              "      <td>17/May/2015:11:05:05 +0000</td>\n",
              "      <td>GET /images/jordan-80.png HTTP/1.1</td>\n",
              "      <td>200</td>\n",
              "      <td>6146</td>\n",
              "      <td>http://www.semicomplete.com/projects/xpathtool/</td>\n",
              "      <td>Mozilla/5.0 (Macintosh; Intel Mac OS X 10_8_5)...</td>\n",
              "    </tr>\n",
              "    <tr>\n",
              "      <th>156</th>\n",
              "      <td>68.184.202.186</td>\n",
              "      <td>-</td>\n",
              "      <td>-</td>\n",
              "      <td>17/May/2015:11:05:02 +0000</td>\n",
              "      <td>GET /style2.css HTTP/1.1</td>\n",
              "      <td>200</td>\n",
              "      <td>4877</td>\n",
              "      <td>http://www.semicomplete.com/projects/xpathtool/</td>\n",
              "      <td>Mozilla/5.0 (Macintosh; Intel Mac OS X 10_8_5)...</td>\n",
              "    </tr>\n",
              "    <tr>\n",
              "      <th>157</th>\n",
              "      <td>68.184.202.186</td>\n",
              "      <td>-</td>\n",
              "      <td>-</td>\n",
              "      <td>17/May/2015:11:05:37 +0000</td>\n",
              "      <td>GET /images/web/2009/banner.png HTTP/1.1</td>\n",
              "      <td>200</td>\n",
              "      <td>52315</td>\n",
              "      <td>http://www.semicomplete.com/projects/xpathtool/</td>\n",
              "      <td>Mozilla/5.0 (Macintosh; Intel Mac OS X 10_8_5)...</td>\n",
              "    </tr>\n",
              "    <tr>\n",
              "      <th>158</th>\n",
              "      <td>68.184.202.186</td>\n",
              "      <td>-</td>\n",
              "      <td>-</td>\n",
              "      <td>17/May/2015:11:05:58 +0000</td>\n",
              "      <td>GET /favicon.ico HTTP/1.1</td>\n",
              "      <td>200</td>\n",
              "      <td>3638</td>\n",
              "      <td>-</td>\n",
              "      <td>Mozilla/5.0 (Macintosh; Intel Mac OS X 10_8_5)...</td>\n",
              "    </tr>\n",
              "  </tbody>\n",
              "</table>\n",
              "</div>"
            ],
            "text/plain": [
              "               host  ...                                         user-agent\n",
              "153  68.184.202.186  ...  Mozilla/5.0 (Macintosh; Intel Mac OS X 10_8_5)...\n",
              "154  68.184.202.186  ...  Mozilla/5.0 (Macintosh; Intel Mac OS X 10_8_5)...\n",
              "155  68.184.202.186  ...  Mozilla/5.0 (Macintosh; Intel Mac OS X 10_8_5)...\n",
              "156  68.184.202.186  ...  Mozilla/5.0 (Macintosh; Intel Mac OS X 10_8_5)...\n",
              "157  68.184.202.186  ...  Mozilla/5.0 (Macintosh; Intel Mac OS X 10_8_5)...\n",
              "158  68.184.202.186  ...  Mozilla/5.0 (Macintosh; Intel Mac OS X 10_8_5)...\n",
              "\n",
              "[6 rows x 9 columns]"
            ]
          },
          "metadata": {
            "tags": []
          },
          "execution_count": 78
        }
      ]
    },
    {
      "cell_type": "markdown",
      "metadata": {
        "id": "RhRNoncauCPo",
        "colab_type": "text"
      },
      "source": [
        "\"68.184.202.186\"은 서버에 'GET' 요청을 총 6번 했다는 것을 확인할 수 있다. \n"
      ]
    },
    {
      "cell_type": "markdown",
      "metadata": {
        "id": "7wtwFGEag7en",
        "colab_type": "text"
      },
      "source": [
        "##**문제3> 전체 HTTP 응답 중에서 200 응답 코드의 비율은 어떻게 되나요?**"
      ]
    },
    {
      "cell_type": "markdown",
      "metadata": {
        "id": "9hGFmPJVxOxk",
        "colab_type": "text"
      },
      "source": [
        "먼저, 로그 기록 중 \"statuscode\"에  값이 안들어있거나, 공백 또는 ' -'이 포함되어 있는지 확인했다."
      ]
    },
    {
      "cell_type": "code",
      "metadata": {
        "id": "OR1cSa7HxWAi",
        "colab_type": "code",
        "outputId": "06cabe80-a874-48c4-d7d3-dc34d8df53ac",
        "colab": {
          "base_uri": "https://localhost:8080/",
          "height": 34
        }
      },
      "source": [
        "cnt = 0\n",
        "\n",
        "for code in df_logs[\"statuscode\"]:\n",
        "  if code == \"-\" or code == \" \" or code == \"\":\n",
        "    continue\n",
        "  cnt+= 1\n",
        "\n",
        "cnt"
      ],
      "execution_count": 0,
      "outputs": [
        {
          "output_type": "execute_result",
          "data": {
            "text/plain": [
              "10000"
            ]
          },
          "metadata": {
            "tags": []
          },
          "execution_count": 35
        }
      ]
    },
    {
      "cell_type": "markdown",
      "metadata": {
        "id": "9LWdUwLmyf33",
        "colab_type": "text"
      },
      "source": [
        "위의 결과를 통해서 **응답하지 않은 경우**는 없었다."
      ]
    },
    {
      "cell_type": "markdown",
      "metadata": {
        "id": "nY5jggxDxm95",
        "colab_type": "text"
      },
      "source": [
        "\"statuscode\"의 길이는 곧 전체 HTTP 응답 수와 같다."
      ]
    },
    {
      "cell_type": "code",
      "metadata": {
        "id": "h8mPu7qzlgJ9",
        "colab_type": "code",
        "colab": {}
      },
      "source": [
        "total = len(df_logs[\"statuscode\"])"
      ],
      "execution_count": 0,
      "outputs": []
    },
    {
      "cell_type": "code",
      "metadata": {
        "id": "dszt7HprmFEi",
        "colab_type": "code",
        "outputId": "8a03fb5a-f3d9-4dc6-ad4e-6ca4c53f7501",
        "colab": {
          "base_uri": "https://localhost:8080/",
          "height": 34
        }
      },
      "source": [
        "total"
      ],
      "execution_count": 0,
      "outputs": [
        {
          "output_type": "execute_result",
          "data": {
            "text/plain": [
              "10000"
            ]
          },
          "metadata": {
            "tags": []
          },
          "execution_count": 37
        }
      ]
    },
    {
      "cell_type": "markdown",
      "metadata": {
        "id": "5zivgt5Ax1nb",
        "colab_type": "text"
      },
      "source": [
        "\"statuscode\" 중에서 '200'에 해당되는 값을 카운팅 한다.\n"
      ]
    },
    {
      "cell_type": "code",
      "metadata": {
        "id": "Ma9F1UlDY3MB",
        "colab_type": "code",
        "colab": {}
      },
      "source": [
        "cnt = 0\n",
        "\n",
        "for value in df_logs[\"statuscode\"]:\n",
        "  if value == 200:\n",
        "    cnt += 1"
      ],
      "execution_count": 0,
      "outputs": []
    },
    {
      "cell_type": "code",
      "metadata": {
        "id": "pLW06BBVam07",
        "colab_type": "code",
        "outputId": "61087555-c779-48b8-d75a-ad5f8de995cc",
        "colab": {
          "base_uri": "https://localhost:8080/",
          "height": 34
        }
      },
      "source": [
        "cnt"
      ],
      "execution_count": 0,
      "outputs": [
        {
          "output_type": "execute_result",
          "data": {
            "text/plain": [
              "9126"
            ]
          },
          "metadata": {
            "tags": []
          },
          "execution_count": 39
        }
      ]
    },
    {
      "cell_type": "markdown",
      "metadata": {
        "id": "Bm4YyCzuyeDM",
        "colab_type": "text"
      },
      "source": [
        "전체 응답 수와  ''200'을 카운팅 한 수를 이용하여 비율을 계산한다."
      ]
    },
    {
      "cell_type": "markdown",
      "metadata": {
        "id": "v1aVTjXK2pHE",
        "colab_type": "text"
      },
      "source": [
        "(*※  round() 함수는 소수 첫 번째 자리에서 반올림 한다.*)"
      ]
    },
    {
      "cell_type": "code",
      "metadata": {
        "id": "ZzLEb1rumwNs",
        "colab_type": "code",
        "outputId": "a771576c-da04-4eaa-fca9-da223280e9c8",
        "colab": {
          "base_uri": "https://localhost:8080/",
          "height": 34
        }
      },
      "source": [
        "\"전체 HTTP 응답 중 200 응답의 비율은 {}% 입니다.\".format(round((cnt/total)*100))"
      ],
      "execution_count": 0,
      "outputs": [
        {
          "output_type": "execute_result",
          "data": {
            "text/plain": [
              "'전체 HTTP 응답 중 200 응답의 비율은 91% 입니다.'"
            ]
          },
          "metadata": {
            "tags": []
          },
          "execution_count": 40
        }
      ]
    },
    {
      "cell_type": "markdown",
      "metadata": {
        "id": "t8e-jiclpx2I",
        "colab_type": "text"
      },
      "source": [
        "##**문제 4> User-agent 를 파싱한 후 os 별 접속자 통 계를 구해 보세요.**"
      ]
    },
    {
      "cell_type": "markdown",
      "metadata": {
        "id": "0ZWJf26lhyMG",
        "colab_type": "text"
      },
      "source": [
        "데이터 프레임으로 저장된 로그 정보에서 \"user-agent\"의 정보를 이용하여,\n",
        "클라이언트의 OS 정보를 확인하고자 한다.\n",
        "\n",
        "for 문을 이용하여 1만 개의 \"user-agent\" 데이터를 OS 리스트와 하나하나 비교하고 OS 정보를 파악하여, \"os 리스트\"에 순서대로 추가한다.\n",
        "\n",
        "[user-agent에 내포된 OS 정보 ](https://charls.tistory.com/entry/useragent-NginX-Lua-Script%EB%A5%BC-%EC%9D%B4%EC%9A%A9%ED%95%9C-OS-Browser-%ED%99%95%EC%9D%B8)"
      ]
    },
    {
      "cell_type": "code",
      "metadata": {
        "id": "wl1wsjufnA10",
        "colab_type": "code",
        "outputId": "b196de14-daf5-429e-f6fd-9bdb19c5cfbd",
        "colab": {
          "base_uri": "https://localhost:8080/",
          "height": 34
        }
      },
      "source": [
        "os = []\n",
        "\n",
        "for client in df_logs[\"user-agent\"]:\n",
        "  if \"windows nt 5.1\" in client.lower():\n",
        "    os.append(\"Windows XP\")\n",
        "  elif \"windows nt 6.0\" in client.lower():\n",
        "    os.append(\"Windows Vista\")\n",
        "  elif \"windows nt 6.1\" in client.lower():\n",
        "    os.append(\"Windows 7\")\n",
        "  elif \"windows nt 6.2\" in client.lower():\n",
        "    os.append(\"Windows 8\")\n",
        "  elif \"windows nt 6.3\" in client.lower():\n",
        "    os.append(\"Windows 8.1\")\n",
        "  elif \"windows nt 10.0\" in client.lower():\n",
        "    os.append(\"Windows 10\")\n",
        "  elif \"windows phone 8.1\" in client.lower():\n",
        "    os.append(\"Windows Phone 8.1\")\n",
        "  elif \"windows phone 10.0\" in client.lower():\n",
        "    os.append(\"Windows Phone 10\")\n",
        "  elif \"android\" in client.lower():\n",
        "    os.append(\"Android\")\n",
        "  elif \"blackberry\" in client.lower():\n",
        "    os.append(\"BlackBerry\")\n",
        "  elif \"iphone\" in client.lower():\n",
        "    os.append(\"IPhone\")\n",
        "  elif \"ipad\" in client.lower():\n",
        "    os.append(\"IPad\")\n",
        "  elif \"ipod\" in client.lower():\n",
        "    os.append(\"IPod\")\n",
        "  elif \"mac\" in client.lower():\n",
        "    os.append(\"Mac\")\n",
        "  elif \"x11\" in client.lower():\n",
        "    os.append(\"Linux(X Windows)\")\n",
        "  elif \"windows\" in client.lower():\n",
        "    os.append(\"Windows ETC\")\n",
        "  elif \"googlebot\" in client.lower():\n",
        "   os.append(\"Google BOT\")\n",
        "  elif \"tizen\" in client.lower():\n",
        "    os.append(\"Tizen\")\n",
        "  else:\n",
        "    os.append(\"Undefined OS\")\n",
        "\n",
        "print(len(os))"
      ],
      "execution_count": 0,
      "outputs": [
        {
          "output_type": "stream",
          "text": [
            "10000\n"
          ],
          "name": "stdout"
        }
      ]
    },
    {
      "cell_type": "markdown",
      "metadata": {
        "id": "QHL3p1Z_kWMm",
        "colab_type": "text"
      },
      "source": [
        "총 1만개의 OS 정보를 확보한 것을 확인했으니, 이를 데이터 프레임 형식으로 변환하자.\n",
        "\n",
        "('count'는 os별 집계 결과를 구하는데 필요.)"
      ]
    },
    {
      "cell_type": "code",
      "metadata": {
        "id": "XNCxpE3sidSg",
        "colab_type": "code",
        "colab": {}
      },
      "source": [
        "df_os = pd.DataFrame(data={'os' : os, 'count' : 0})"
      ],
      "execution_count": 0,
      "outputs": []
    },
    {
      "cell_type": "code",
      "metadata": {
        "id": "cQpiSjm0ikEo",
        "colab_type": "code",
        "outputId": "c2862cfd-1361-4df0-f4af-4ea2cd100b2b",
        "colab": {
          "base_uri": "https://localhost:8080/",
          "height": 402
        }
      },
      "source": [
        "df_os"
      ],
      "execution_count": 0,
      "outputs": [
        {
          "output_type": "execute_result",
          "data": {
            "text/html": [
              "<div>\n",
              "<style scoped>\n",
              "    .dataframe tbody tr th:only-of-type {\n",
              "        vertical-align: middle;\n",
              "    }\n",
              "\n",
              "    .dataframe tbody tr th {\n",
              "        vertical-align: top;\n",
              "    }\n",
              "\n",
              "    .dataframe thead th {\n",
              "        text-align: right;\n",
              "    }\n",
              "</style>\n",
              "<table border=\"1\" class=\"dataframe\">\n",
              "  <thead>\n",
              "    <tr style=\"text-align: right;\">\n",
              "      <th></th>\n",
              "      <th>os</th>\n",
              "      <th>count</th>\n",
              "    </tr>\n",
              "  </thead>\n",
              "  <tbody>\n",
              "    <tr>\n",
              "      <th>0</th>\n",
              "      <td>Mac</td>\n",
              "      <td>0</td>\n",
              "    </tr>\n",
              "    <tr>\n",
              "      <th>1</th>\n",
              "      <td>Mac</td>\n",
              "      <td>0</td>\n",
              "    </tr>\n",
              "    <tr>\n",
              "      <th>2</th>\n",
              "      <td>Mac</td>\n",
              "      <td>0</td>\n",
              "    </tr>\n",
              "    <tr>\n",
              "      <th>3</th>\n",
              "      <td>Mac</td>\n",
              "      <td>0</td>\n",
              "    </tr>\n",
              "    <tr>\n",
              "      <th>4</th>\n",
              "      <td>Mac</td>\n",
              "      <td>0</td>\n",
              "    </tr>\n",
              "    <tr>\n",
              "      <th>...</th>\n",
              "      <td>...</td>\n",
              "      <td>...</td>\n",
              "    </tr>\n",
              "    <tr>\n",
              "      <th>9995</th>\n",
              "      <td>Undefined OS</td>\n",
              "      <td>0</td>\n",
              "    </tr>\n",
              "    <tr>\n",
              "      <th>9996</th>\n",
              "      <td>Undefined OS</td>\n",
              "      <td>0</td>\n",
              "    </tr>\n",
              "    <tr>\n",
              "      <th>9997</th>\n",
              "      <td>Google BOT</td>\n",
              "      <td>0</td>\n",
              "    </tr>\n",
              "    <tr>\n",
              "      <th>9998</th>\n",
              "      <td>Windows XP</td>\n",
              "      <td>0</td>\n",
              "    </tr>\n",
              "    <tr>\n",
              "      <th>9999</th>\n",
              "      <td>Undefined OS</td>\n",
              "      <td>0</td>\n",
              "    </tr>\n",
              "  </tbody>\n",
              "</table>\n",
              "<p>10000 rows × 2 columns</p>\n",
              "</div>"
            ],
            "text/plain": [
              "                os  count\n",
              "0              Mac      0\n",
              "1              Mac      0\n",
              "2              Mac      0\n",
              "3              Mac      0\n",
              "4              Mac      0\n",
              "...            ...    ...\n",
              "9995  Undefined OS      0\n",
              "9996  Undefined OS      0\n",
              "9997    Google BOT      0\n",
              "9998    Windows XP      0\n",
              "9999  Undefined OS      0\n",
              "\n",
              "[10000 rows x 2 columns]"
            ]
          },
          "metadata": {
            "tags": []
          },
          "execution_count": 43
        }
      ]
    },
    {
      "cell_type": "markdown",
      "metadata": {
        "id": "YOfuZS6O0TYx",
        "colab_type": "text"
      },
      "source": [
        "Group by 기능을 이용하여, os 항목별로 묶고, 카운팅을 수행한다."
      ]
    },
    {
      "cell_type": "code",
      "metadata": {
        "id": "eok9QPLVnTsS",
        "colab_type": "code",
        "colab": {}
      },
      "source": [
        "counted_os = df_os.groupby(\"os\").count()"
      ],
      "execution_count": 0,
      "outputs": []
    },
    {
      "cell_type": "code",
      "metadata": {
        "id": "2AMiFVDXndCH",
        "colab_type": "code",
        "outputId": "73054926-8adf-4b93-c6f0-9603b7cd744b",
        "colab": {
          "base_uri": "https://localhost:8080/",
          "height": 462
        }
      },
      "source": [
        "counted_os"
      ],
      "execution_count": 0,
      "outputs": [
        {
          "output_type": "execute_result",
          "data": {
            "text/html": [
              "<div>\n",
              "<style scoped>\n",
              "    .dataframe tbody tr th:only-of-type {\n",
              "        vertical-align: middle;\n",
              "    }\n",
              "\n",
              "    .dataframe tbody tr th {\n",
              "        vertical-align: top;\n",
              "    }\n",
              "\n",
              "    .dataframe thead th {\n",
              "        text-align: right;\n",
              "    }\n",
              "</style>\n",
              "<table border=\"1\" class=\"dataframe\">\n",
              "  <thead>\n",
              "    <tr style=\"text-align: right;\">\n",
              "      <th></th>\n",
              "      <th>count</th>\n",
              "    </tr>\n",
              "    <tr>\n",
              "      <th>os</th>\n",
              "      <th></th>\n",
              "    </tr>\n",
              "  </thead>\n",
              "  <tbody>\n",
              "    <tr>\n",
              "      <th>Android</th>\n",
              "      <td>187</td>\n",
              "    </tr>\n",
              "    <tr>\n",
              "      <th>Google BOT</th>\n",
              "      <td>272</td>\n",
              "    </tr>\n",
              "    <tr>\n",
              "      <th>IPad</th>\n",
              "      <td>61</td>\n",
              "    </tr>\n",
              "    <tr>\n",
              "      <th>IPhone</th>\n",
              "      <td>358</td>\n",
              "    </tr>\n",
              "    <tr>\n",
              "      <th>Linux(X Windows)</th>\n",
              "      <td>2046</td>\n",
              "    </tr>\n",
              "    <tr>\n",
              "      <th>Mac</th>\n",
              "      <td>1444</td>\n",
              "    </tr>\n",
              "    <tr>\n",
              "      <th>Undefined OS</th>\n",
              "      <td>2318</td>\n",
              "    </tr>\n",
              "    <tr>\n",
              "      <th>Windows 7</th>\n",
              "      <td>2211</td>\n",
              "    </tr>\n",
              "    <tr>\n",
              "      <th>Windows 8</th>\n",
              "      <td>112</td>\n",
              "    </tr>\n",
              "    <tr>\n",
              "      <th>Windows 8.1</th>\n",
              "      <td>266</td>\n",
              "    </tr>\n",
              "    <tr>\n",
              "      <th>Windows ETC</th>\n",
              "      <td>200</td>\n",
              "    </tr>\n",
              "    <tr>\n",
              "      <th>Windows Vista</th>\n",
              "      <td>37</td>\n",
              "    </tr>\n",
              "    <tr>\n",
              "      <th>Windows XP</th>\n",
              "      <td>488</td>\n",
              "    </tr>\n",
              "  </tbody>\n",
              "</table>\n",
              "</div>"
            ],
            "text/plain": [
              "                  count\n",
              "os                     \n",
              "Android             187\n",
              "Google BOT          272\n",
              "IPad                 61\n",
              "IPhone              358\n",
              "Linux(X Windows)   2046\n",
              "Mac                1444\n",
              "Undefined OS       2318\n",
              "Windows 7          2211\n",
              "Windows 8           112\n",
              "Windows 8.1         266\n",
              "Windows ETC         200\n",
              "Windows Vista        37\n",
              "Windows XP          488"
            ]
          },
          "metadata": {
            "tags": []
          },
          "execution_count": 91
        }
      ]
    },
    {
      "cell_type": "code",
      "metadata": {
        "id": "XuBb_a39r-W4",
        "colab_type": "code",
        "outputId": "3ca315ca-84df-401a-ec65-e3c4722102b2",
        "colab": {
          "base_uri": "https://localhost:8080/",
          "height": 34
        }
      },
      "source": [
        "counted_os['count'].sum()"
      ],
      "execution_count": 0,
      "outputs": [
        {
          "output_type": "execute_result",
          "data": {
            "text/plain": [
              "10000"
            ]
          },
          "metadata": {
            "tags": []
          },
          "execution_count": 92
        }
      ]
    },
    {
      "cell_type": "markdown",
      "metadata": {
        "id": "MUFvKS-k1szs",
        "colab_type": "text"
      },
      "source": [
        "카운팅의 총 합이 1만이므로, 집계 결과에 문제는 없다. "
      ]
    },
    {
      "cell_type": "markdown",
      "metadata": {
        "id": "fjK6QkPM2rAH",
        "colab_type": "text"
      },
      "source": [
        "먼저, `matplotlib` 패키지를 임포트 하자.\n",
        "\n",
        ">\"`Matplotlib`는 파이썬에서 자료를 차트(chart)나 플롯(plot)으로 시각화(visulaization)하는 패키지이다. Matplotlib는 다음과 같은 정형화된 차트나 플롯 이외에도 저수준 api를 사용한 다양한 시각화 기능을 제공한다.\""
      ]
    },
    {
      "cell_type": "code",
      "metadata": {
        "id": "0oMdtWv3sYAC",
        "colab_type": "code",
        "colab": {}
      },
      "source": [
        "from matplotlib import pyplot"
      ],
      "execution_count": 0,
      "outputs": []
    },
    {
      "cell_type": "markdown",
      "metadata": {
        "id": "SeVxdQAR3Un2",
        "colab_type": "text"
      },
      "source": [
        "`pyplot.axis('equal')`은 타원이 아닌 동그란 원 형태로 만들어 주기 위함이다.\n",
        "\n",
        "os별 집계 결과 데이터 프레임에서 'count ' 항목을 기준으로 파이 형태의 그래프를 그린다. 그리고 그래프와 폰트 사이즈를 설정한 뒤 결과(퍼센티지)는 소수점 첫 째자리 까지 표현한다.\n"
      ]
    },
    {
      "cell_type": "code",
      "metadata": {
        "id": "v2DdO4l8sgfK",
        "colab_type": "code",
        "outputId": "8a514f83-1708-452e-ec98-9f3e2849120b",
        "colab": {
          "base_uri": "https://localhost:8080/",
          "height": 466
        }
      },
      "source": [
        "pyplot.axis('equal')\n",
        "\n",
        "result = counted_os['count'].plot(kind='pie', figsize=(8, 8), fontsize=15, autopct='%.1f%%')"
      ],
      "execution_count": 0,
      "outputs": [
        {
          "output_type": "display_data",
          "data": {
            "image/png": "[encoded data removed]",
            "text/plain": [
              "<Figure size 576x576 with 1 Axes>"
            ]
          },
          "metadata": {
            "tags": []
          }
        }
      ]
    },
    {
      "cell_type": "markdown",
      "metadata": {
        "id": "dGqM9wEuv-T-",
        "colab_type": "text"
      },
      "source": [
        "##**문제 5> IP 주소, 요청 uri, HTTP 응답 코드로만 구성된 csv 파일을 만들어 보세요.**"
      ]
    },
    {
      "cell_type": "markdown",
      "metadata": {
        "id": "_cxSEgKJ8edi",
        "colab_type": "text"
      },
      "source": [
        "웹 서버 로그 기록 중 **'request'**는 **'요청 메서드 + 요청 URI + 프로토콜 버젼'**으로 구성되어 있다. 이 세 가지 구성은 각각 띄어쓰기로 구분되어 있다.\n",
        "\n",
        "split() 함수로 request 문자열을 공백 기준으로 나눈 뒤, 요청 URI만 추출한다."
      ]
    },
    {
      "cell_type": "code",
      "metadata": {
        "id": "lXzzI4YKwFCO",
        "colab_type": "code",
        "outputId": "0a45e9d5-0a5a-4278-829a-3f475798f7a4",
        "colab": {
          "base_uri": "https://localhost:8080/",
          "height": 34
        }
      },
      "source": [
        "uri = []\n",
        "\n",
        "for request in df_logs['request']:\n",
        "  uri.append(request.split(\" \")[1])\n",
        "\n",
        "print(len(uri))"
      ],
      "execution_count": 0,
      "outputs": [
        {
          "output_type": "stream",
          "text": [
            "10000\n"
          ],
          "name": "stdout"
        }
      ]
    },
    {
      "cell_type": "markdown",
      "metadata": {
        "id": "cbVYBL-G_Qvm",
        "colab_type": "text"
      },
      "source": [
        "추출한 1만 개의 URI로 새로운 데이터 프레임을 만든다."
      ]
    },
    {
      "cell_type": "code",
      "metadata": {
        "id": "PfUwDYed4bZj",
        "colab_type": "code",
        "colab": {}
      },
      "source": [
        "df_uri = pd.DataFrame(data={'uri' : uri})"
      ],
      "execution_count": 0,
      "outputs": []
    },
    {
      "cell_type": "code",
      "metadata": {
        "id": "7xEzSxCt-2SF",
        "colab_type": "code",
        "outputId": "36d46039-f5a3-42ad-be31-d138141c548d",
        "colab": {
          "base_uri": "https://localhost:8080/",
          "height": 402
        }
      },
      "source": [
        "df_uri"
      ],
      "execution_count": 0,
      "outputs": [
        {
          "output_type": "execute_result",
          "data": {
            "text/html": [
              "<div>\n",
              "<style scoped>\n",
              "    .dataframe tbody tr th:only-of-type {\n",
              "        vertical-align: middle;\n",
              "    }\n",
              "\n",
              "    .dataframe tbody tr th {\n",
              "        vertical-align: top;\n",
              "    }\n",
              "\n",
              "    .dataframe thead th {\n",
              "        text-align: right;\n",
              "    }\n",
              "</style>\n",
              "<table border=\"1\" class=\"dataframe\">\n",
              "  <thead>\n",
              "    <tr style=\"text-align: right;\">\n",
              "      <th></th>\n",
              "      <th>uri</th>\n",
              "    </tr>\n",
              "  </thead>\n",
              "  <tbody>\n",
              "    <tr>\n",
              "      <th>0</th>\n",
              "      <td>/presentations/logstash-monitorama-2013/images...</td>\n",
              "    </tr>\n",
              "    <tr>\n",
              "      <th>1</th>\n",
              "      <td>/presentations/logstash-monitorama-2013/images...</td>\n",
              "    </tr>\n",
              "    <tr>\n",
              "      <th>2</th>\n",
              "      <td>/presentations/logstash-monitorama-2013/plugin...</td>\n",
              "    </tr>\n",
              "    <tr>\n",
              "      <th>3</th>\n",
              "      <td>/presentations/logstash-monitorama-2013/plugin...</td>\n",
              "    </tr>\n",
              "    <tr>\n",
              "      <th>4</th>\n",
              "      <td>/presentations/logstash-monitorama-2013/plugin...</td>\n",
              "    </tr>\n",
              "    <tr>\n",
              "      <th>...</th>\n",
              "      <td>...</td>\n",
              "    </tr>\n",
              "    <tr>\n",
              "      <th>9995</th>\n",
              "      <td>/blog/tags/puppet?flav=rss20</td>\n",
              "    </tr>\n",
              "    <tr>\n",
              "      <th>9996</th>\n",
              "      <td>/blog/geekery/solving-good-or-bad-problems.htm...</td>\n",
              "    </tr>\n",
              "    <tr>\n",
              "      <th>9997</th>\n",
              "      <td>/?flav=atom</td>\n",
              "    </tr>\n",
              "    <tr>\n",
              "      <th>9998</th>\n",
              "      <td>/robots.txt</td>\n",
              "    </tr>\n",
              "    <tr>\n",
              "      <th>9999</th>\n",
              "      <td>/blog/tags/puppet?flav=rss20</td>\n",
              "    </tr>\n",
              "  </tbody>\n",
              "</table>\n",
              "<p>10000 rows × 1 columns</p>\n",
              "</div>"
            ],
            "text/plain": [
              "                                                    uri\n",
              "0     /presentations/logstash-monitorama-2013/images...\n",
              "1     /presentations/logstash-monitorama-2013/images...\n",
              "2     /presentations/logstash-monitorama-2013/plugin...\n",
              "3     /presentations/logstash-monitorama-2013/plugin...\n",
              "4     /presentations/logstash-monitorama-2013/plugin...\n",
              "...                                                 ...\n",
              "9995                       /blog/tags/puppet?flav=rss20\n",
              "9996  /blog/geekery/solving-good-or-bad-problems.htm...\n",
              "9997                                        /?flav=atom\n",
              "9998                                        /robots.txt\n",
              "9999                       /blog/tags/puppet?flav=rss20\n",
              "\n",
              "[10000 rows x 1 columns]"
            ]
          },
          "metadata": {
            "tags": []
          },
          "execution_count": 51
        }
      ]
    },
    {
      "cell_type": "markdown",
      "metadata": {
        "id": "zIRvRT9SE_Rf",
        "colab_type": "text"
      },
      "source": [
        "기존의 '로그 기록' 데이터 프레임에서 'host'와 'statuscode' 열을 가져오고,\n",
        "\n",
        "위에서 만든 'URI' 데이터 프레임을 가져와서 새로운 데이터 프레임을 생성한다."
      ]
    },
    {
      "cell_type": "code",
      "metadata": {
        "id": "g0O2wv7Q-9Bc",
        "colab_type": "code",
        "colab": {}
      },
      "source": [
        "df_new = pd.concat([df_logs[\"host\"], df_uri[\"uri\"], df_logs[\"statuscode\"]], axis=1)"
      ],
      "execution_count": 0,
      "outputs": []
    },
    {
      "cell_type": "code",
      "metadata": {
        "id": "yGI8id6bANfI",
        "colab_type": "code",
        "outputId": "7bb78872-d2a5-48f9-b475-3d18f5099454",
        "colab": {
          "base_uri": "https://localhost:8080/",
          "height": 402
        }
      },
      "source": [
        "df_new"
      ],
      "execution_count": 0,
      "outputs": [
        {
          "output_type": "execute_result",
          "data": {
            "text/html": [
              "<div>\n",
              "<style scoped>\n",
              "    .dataframe tbody tr th:only-of-type {\n",
              "        vertical-align: middle;\n",
              "    }\n",
              "\n",
              "    .dataframe tbody tr th {\n",
              "        vertical-align: top;\n",
              "    }\n",
              "\n",
              "    .dataframe thead th {\n",
              "        text-align: right;\n",
              "    }\n",
              "</style>\n",
              "<table border=\"1\" class=\"dataframe\">\n",
              "  <thead>\n",
              "    <tr style=\"text-align: right;\">\n",
              "      <th></th>\n",
              "      <th>host</th>\n",
              "      <th>uri</th>\n",
              "      <th>statuscode</th>\n",
              "    </tr>\n",
              "  </thead>\n",
              "  <tbody>\n",
              "    <tr>\n",
              "      <th>0</th>\n",
              "      <td>83.149.9.216</td>\n",
              "      <td>/presentations/logstash-monitorama-2013/images...</td>\n",
              "      <td>200</td>\n",
              "    </tr>\n",
              "    <tr>\n",
              "      <th>1</th>\n",
              "      <td>83.149.9.216</td>\n",
              "      <td>/presentations/logstash-monitorama-2013/images...</td>\n",
              "      <td>200</td>\n",
              "    </tr>\n",
              "    <tr>\n",
              "      <th>2</th>\n",
              "      <td>83.149.9.216</td>\n",
              "      <td>/presentations/logstash-monitorama-2013/plugin...</td>\n",
              "      <td>200</td>\n",
              "    </tr>\n",
              "    <tr>\n",
              "      <th>3</th>\n",
              "      <td>83.149.9.216</td>\n",
              "      <td>/presentations/logstash-monitorama-2013/plugin...</td>\n",
              "      <td>200</td>\n",
              "    </tr>\n",
              "    <tr>\n",
              "      <th>4</th>\n",
              "      <td>83.149.9.216</td>\n",
              "      <td>/presentations/logstash-monitorama-2013/plugin...</td>\n",
              "      <td>200</td>\n",
              "    </tr>\n",
              "    <tr>\n",
              "      <th>...</th>\n",
              "      <td>...</td>\n",
              "      <td>...</td>\n",
              "      <td>...</td>\n",
              "    </tr>\n",
              "    <tr>\n",
              "      <th>9995</th>\n",
              "      <td>63.140.98.80</td>\n",
              "      <td>/blog/tags/puppet?flav=rss20</td>\n",
              "      <td>200</td>\n",
              "    </tr>\n",
              "    <tr>\n",
              "      <th>9996</th>\n",
              "      <td>63.140.98.80</td>\n",
              "      <td>/blog/geekery/solving-good-or-bad-problems.htm...</td>\n",
              "      <td>200</td>\n",
              "    </tr>\n",
              "    <tr>\n",
              "      <th>9997</th>\n",
              "      <td>66.249.73.135</td>\n",
              "      <td>/?flav=atom</td>\n",
              "      <td>200</td>\n",
              "    </tr>\n",
              "    <tr>\n",
              "      <th>9998</th>\n",
              "      <td>180.76.6.56</td>\n",
              "      <td>/robots.txt</td>\n",
              "      <td>200</td>\n",
              "    </tr>\n",
              "    <tr>\n",
              "      <th>9999</th>\n",
              "      <td>46.105.14.53</td>\n",
              "      <td>/blog/tags/puppet?flav=rss20</td>\n",
              "      <td>200</td>\n",
              "    </tr>\n",
              "  </tbody>\n",
              "</table>\n",
              "<p>10000 rows × 3 columns</p>\n",
              "</div>"
            ],
            "text/plain": [
              "               host  ... statuscode\n",
              "0      83.149.9.216  ...        200\n",
              "1      83.149.9.216  ...        200\n",
              "2      83.149.9.216  ...        200\n",
              "3      83.149.9.216  ...        200\n",
              "4      83.149.9.216  ...        200\n",
              "...             ...  ...        ...\n",
              "9995   63.140.98.80  ...        200\n",
              "9996   63.140.98.80  ...        200\n",
              "9997  66.249.73.135  ...        200\n",
              "9998    180.76.6.56  ...        200\n",
              "9999   46.105.14.53  ...        200\n",
              "\n",
              "[10000 rows x 3 columns]"
            ]
          },
          "metadata": {
            "tags": []
          },
          "execution_count": 95
        }
      ]
    },
    {
      "cell_type": "markdown",
      "metadata": {
        "id": "cCf5JWCrRoDM",
        "colab_type": "text"
      },
      "source": [
        "새로 생성한 데이터 프레임을 CSV 파일(new_output.csv)로 변환하여 저장한다."
      ]
    },
    {
      "cell_type": "code",
      "metadata": {
        "id": "PKNzTNJCE9Y8",
        "colab_type": "code",
        "colab": {}
      },
      "source": [
        "new_output = df_new.to_csv(\"./drive/My Drive/Colab Notebooks/new_output.csv\", mode='w',  index = False)"
      ],
      "execution_count": 0,
      "outputs": []
    },
    {
      "cell_type": "code",
      "metadata": {
        "id": "PG6GXX5XHzfE",
        "colab_type": "code",
        "outputId": "c274f1af-562b-4cfa-8dc6-b08a6b12eeed",
        "colab": {
          "base_uri": "https://localhost:8080/",
          "height": 402
        }
      },
      "source": [
        "pd.read_csv('./drive/My Drive/Colab Notebooks/new_output.csv')"
      ],
      "execution_count": 0,
      "outputs": [
        {
          "output_type": "execute_result",
          "data": {
            "text/html": [
              "<div>\n",
              "<style scoped>\n",
              "    .dataframe tbody tr th:only-of-type {\n",
              "        vertical-align: middle;\n",
              "    }\n",
              "\n",
              "    .dataframe tbody tr th {\n",
              "        vertical-align: top;\n",
              "    }\n",
              "\n",
              "    .dataframe thead th {\n",
              "        text-align: right;\n",
              "    }\n",
              "</style>\n",
              "<table border=\"1\" class=\"dataframe\">\n",
              "  <thead>\n",
              "    <tr style=\"text-align: right;\">\n",
              "      <th></th>\n",
              "      <th>host</th>\n",
              "      <th>uri</th>\n",
              "      <th>statuscode</th>\n",
              "    </tr>\n",
              "  </thead>\n",
              "  <tbody>\n",
              "    <tr>\n",
              "      <th>0</th>\n",
              "      <td>83.149.9.216</td>\n",
              "      <td>/presentations/logstash-monitorama-2013/images...</td>\n",
              "      <td>200</td>\n",
              "    </tr>\n",
              "    <tr>\n",
              "      <th>1</th>\n",
              "      <td>83.149.9.216</td>\n",
              "      <td>/presentations/logstash-monitorama-2013/images...</td>\n",
              "      <td>200</td>\n",
              "    </tr>\n",
              "    <tr>\n",
              "      <th>2</th>\n",
              "      <td>83.149.9.216</td>\n",
              "      <td>/presentations/logstash-monitorama-2013/plugin...</td>\n",
              "      <td>200</td>\n",
              "    </tr>\n",
              "    <tr>\n",
              "      <th>3</th>\n",
              "      <td>83.149.9.216</td>\n",
              "      <td>/presentations/logstash-monitorama-2013/plugin...</td>\n",
              "      <td>200</td>\n",
              "    </tr>\n",
              "    <tr>\n",
              "      <th>4</th>\n",
              "      <td>83.149.9.216</td>\n",
              "      <td>/presentations/logstash-monitorama-2013/plugin...</td>\n",
              "      <td>200</td>\n",
              "    </tr>\n",
              "    <tr>\n",
              "      <th>...</th>\n",
              "      <td>...</td>\n",
              "      <td>...</td>\n",
              "      <td>...</td>\n",
              "    </tr>\n",
              "    <tr>\n",
              "      <th>9995</th>\n",
              "      <td>63.140.98.80</td>\n",
              "      <td>/blog/tags/puppet?flav=rss20</td>\n",
              "      <td>200</td>\n",
              "    </tr>\n",
              "    <tr>\n",
              "      <th>9996</th>\n",
              "      <td>63.140.98.80</td>\n",
              "      <td>/blog/geekery/solving-good-or-bad-problems.htm...</td>\n",
              "      <td>200</td>\n",
              "    </tr>\n",
              "    <tr>\n",
              "      <th>9997</th>\n",
              "      <td>66.249.73.135</td>\n",
              "      <td>/?flav=atom</td>\n",
              "      <td>200</td>\n",
              "    </tr>\n",
              "    <tr>\n",
              "      <th>9998</th>\n",
              "      <td>180.76.6.56</td>\n",
              "      <td>/robots.txt</td>\n",
              "      <td>200</td>\n",
              "    </tr>\n",
              "    <tr>\n",
              "      <th>9999</th>\n",
              "      <td>46.105.14.53</td>\n",
              "      <td>/blog/tags/puppet?flav=rss20</td>\n",
              "      <td>200</td>\n",
              "    </tr>\n",
              "  </tbody>\n",
              "</table>\n",
              "<p>10000 rows × 3 columns</p>\n",
              "</div>"
            ],
            "text/plain": [
              "               host  ... statuscode\n",
              "0      83.149.9.216  ...        200\n",
              "1      83.149.9.216  ...        200\n",
              "2      83.149.9.216  ...        200\n",
              "3      83.149.9.216  ...        200\n",
              "4      83.149.9.216  ...        200\n",
              "...             ...  ...        ...\n",
              "9995   63.140.98.80  ...        200\n",
              "9996   63.140.98.80  ...        200\n",
              "9997  66.249.73.135  ...        200\n",
              "9998    180.76.6.56  ...        200\n",
              "9999   46.105.14.53  ...        200\n",
              "\n",
              "[10000 rows x 3 columns]"
            ]
          },
          "metadata": {
            "tags": []
          },
          "execution_count": 96
        }
      ]
    },
    {
      "cell_type": "code",
      "metadata": {
        "id": "aUcMoxiy55o8",
        "colab_type": "code",
        "colab": {}
      },
      "source": [
        ""
      ],
      "execution_count": 0,
      "outputs": []
    }
  ]
}